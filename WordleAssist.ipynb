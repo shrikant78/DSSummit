{
  "nbformat": 4,
  "nbformat_minor": 0,
  "metadata": {
    "colab": {
      "name": "WordleAssist.ipynb",
      "provenance": [],
      "collapsed_sections": [],
      "authorship_tag": "ABX9TyOAlir5EFAo3raY8rn6F2hV",
      "include_colab_link": true
    },
    "kernelspec": {
      "name": "python3",
      "display_name": "Python 3"
    },
    "language_info": {
      "name": "python"
    }
  },
  "cells": [
    {
      "cell_type": "markdown",
      "metadata": {
        "id": "view-in-github",
        "colab_type": "text"
      },
      "source": [
        "<a href=\"https://colab.research.google.com/github/shrikant78/DSSummit/blob/master/WordleAssist.ipynb\" target=\"_parent\"><img src=\"https://colab.research.google.com/assets/colab-badge.svg\" alt=\"Open In Colab\"/></a>"
      ]
    },
    {
      "cell_type": "code",
      "source": [
        "#get 5 letter word data\n",
        "from urllib.request import urlopen\n",
        "word_site = \"https://raw.githubusercontent.com/charlesreid1/five-letter-words/master/sgb-words.txt\"\n",
        "response = urlopen(word_site)\n",
        "txt = response.read()\n",
        "five_words = txt.splitlines()"
      ],
      "metadata": {
        "id": "kHQGTuL2EZ25"
      },
      "execution_count": 1,
      "outputs": []
    },
    {
      "cell_type": "code",
      "source": [
        "#function that provides 5 suggestion to the player based on the inputs\n",
        "def get_me_five_suggestions(attempt, choice_index, result_index):\n",
        "  import time\n",
        "  import numpy\n",
        "  import random\n",
        "  start_time = time.time()\n",
        "  five_word_array = ['','','','','']\n",
        "  i=0\n",
        "  word = ''\n",
        "  while i <= 4 :\n",
        "    word=(random.choice(five_words))\n",
        "    word = word.decode(\"utf-8\")\n",
        "    if attempt == 1 :\n",
        "      five_word_array[i] = word\n",
        "      i = i + 1    \n",
        "    else:\n",
        "      valid = 'n'\n",
        "      valid = validate_the_word(word,choice_index,result_index)\n",
        "      if valid == 'y' and word not in five_word_array:\n",
        "        five_word_array[i] = word\n",
        "        i = i + 1          \n",
        "      time_taken_in_sec = time.time() - start_time\n",
        "      if time_taken_in_sec >= 30 :\n",
        "        if i == 0:\n",
        "          timout_word_array = ['TimeOut','','','','']\n",
        "          return(timout_word_array)   \n",
        "        else:\n",
        "          return(five_word_array)         \n",
        "  return(five_word_array) "
      ],
      "metadata": {
        "id": "Edp-W3_K2uj6"
      },
      "execution_count": 2,
      "outputs": []
    },
    {
      "cell_type": "code",
      "source": [
        "#function that splits a word into array of 5 letters\n",
        "def split(word):\n",
        "    return [char for char in word]"
      ],
      "metadata": {
        "id": "UaRqLL6H-_u_"
      },
      "execution_count": 3,
      "outputs": []
    },
    {
      "cell_type": "code",
      "source": [
        "#function that validates if a given word picked from list \n",
        "def validate_the_word(word,choice_index,result_index ) :\n",
        "  current_word = split(word)\n",
        "  i = 0\n",
        "  valid = 'n' \n",
        "  while i <= 4 :\n",
        "    if result_index[i] == 0 and choice_index[i] in word :\n",
        "      #print (\"the not matching letter is in the word : \" , choice_index[i] )\n",
        "      valid = 'n'\n",
        "      return valid\n",
        "    if result_index[i] == 2 and choice_index[i] == current_word [i] :\n",
        "      #print (\"the GREEN matching letter is in the word and in right place : \" , choice_index[i] )\n",
        "      valid = 'y'\n",
        "    if result_index[i] == 2 and choice_index[i] != current_word [i] :\n",
        "      #print (\"the GREEN matching letter is in the word and not in right place : \" , choice_index[i] )\n",
        "      valid = 'n'\n",
        "      return valid\n",
        "    if result_index[i] == 1 and choice_index[i] not in word :\n",
        "      #print (\"the AMBER matching letter is not in the word  : \" , choice_index[i] )  \n",
        "      valid = 'n'\n",
        "      return valid\n",
        "    if result_index[i] == 1 and choice_index[i] in word :\n",
        "      if choice_index[i] == current_word [i] :\n",
        "        #print (\"the AMBER matching letter is in the word and in wrong place : \" , choice_index[i] )  \n",
        "        valid = 'n'\n",
        "        return valid\n",
        "      else :\n",
        "        #print (\"the AMBER matching letter is in the word and in other place : \" , choice_index[i] )\n",
        "        valid = 'y'\n",
        "    i = i + 1\n",
        "  return valid"
      ],
      "metadata": {
        "id": "lYuFimjQIqz3"
      },
      "execution_count": 4,
      "outputs": []
    },
    {
      "cell_type": "code",
      "source": [
        "# execute this cell\n",
        "\n",
        "print (\"Welcome to wordleAssist program.\\nYou will be presented with upto five words to pick from; just pick one of these words and enter on wordle site; then report the outcome as below \\nUse 1 for letter in Yellow and 2 for letter in Green while 0 for no match \\n\\nExample: if the word you picked was SMART and say S is in yellow while A in green, then enter SMART in first box and then 10200 in second box\")\n",
        "print (\"\\nNote - If you enter wrong or invalid inputs, i cant assist you in solving wordle quickly\")\n",
        "\n",
        "attempt = 1 \n",
        "end_attempt = 'y'\n",
        "choice_index = ['', '', '', '', '']\n",
        "result_index = [0, 0, 0, 0, 0]\n",
        "while attempt != 0 :\n",
        "  if attempt == 7:\n",
        "    print (\"Looks like I couldn't assist you in cracking wordle in 6 attempts.. will try better next time\")\n",
        "    break\n",
        "  print (\"\\nAttempt : \" + str(attempt))\n",
        "  five_word_choice = get_me_five_suggestions(attempt, choice_index, result_index)\n",
        "  if five_word_choice[0] == 'TimeOut' :\n",
        "    print (\"Sorry, I cant seem to find any further words!!\")\n",
        "    break\n",
        "  print (\"Your suggestions are : \" , five_word_choice)\n",
        "  choice = input(\"Enter your selected choice? : \" )\n",
        "  result = input(\"Its wordle output ? : \" )\n",
        "  choice_index = split(choice)\n",
        "  result_index = [int(digit) for digit in str(result)]\n",
        "  if result_index == [2,2,2,2,2]:\n",
        "    print (\"Congratulations !!\")\n",
        "    break\n",
        "  print ('\\n')\n",
        "  attempt = attempt + 1\n",
        "\n"
      ],
      "metadata": {
        "id": "QFwHN2uK2hor",
        "colab": {
          "base_uri": "https://localhost:8080/"
        },
        "outputId": "7739ba9b-b2e7-4d0f-fc0a-b75f56738dc2"
      },
      "execution_count": 7,
      "outputs": [
        {
          "output_type": "stream",
          "name": "stdout",
          "text": [
            "Welcome to wordleAssist program.\n",
            "You will be presented with upto five words to pick from; just pick one of these words and enter on wordle site; then report the outcome as below \n",
            "Use 1 for letter in Yellow and 2 for letter in Green while 0 for no match \n",
            "\n",
            "Example: if the word you picked was SMART and say S is in yellow while A in green, then enter SMART in first box and then 10200 in second box\n",
            "\n",
            "Note - If you enter wrong or invalid inputs, i cant assist you in solving wordle quickly\n",
            "\n",
            "Attempt : 1\n",
            "Your suggestions are :  ['narco', 'aquae', 'soles', 'infra', 'jibes']\n",
            "Enter your selected choice? : jibes\n",
            "Its wordle output ? : 00011\n",
            "\n",
            "\n",
            "\n",
            "Attempt : 2\n",
            "Your suggestions are :  ['shear', 'worse', 'pause', 'space', 'estop']\n",
            "Enter your selected choice? : pause\n",
            "Its wordle output ? : 02212\n",
            "\n",
            "\n",
            "\n",
            "Attempt : 3\n",
            "Your suggestions are :  ['saute', 'sauce', '', '', '']\n",
            "Enter your selected choice? : sauce\n",
            "Its wordle output ? : 22202\n",
            "\n",
            "\n",
            "\n",
            "Attempt : 4\n",
            "Your suggestions are :  ['saute', '', '', '', '']\n",
            "Enter your selected choice? : saute\n",
            "Its wordle output ? : 22222\n",
            "Congratulations !!\n"
          ]
        }
      ]
    },
    {
      "cell_type": "markdown",
      "source": [
        "**bold text**"
      ],
      "metadata": {
        "id": "joeJcugO_S_R"
      }
    }
  ]
}