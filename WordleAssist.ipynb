{
  "nbformat": 4,
  "nbformat_minor": 0,
  "metadata": {
    "colab": {
      "name": "WordleAssist.ipynb",
      "provenance": [],
      "authorship_tag": "ABX9TyPdfYjbnzQJ1ixy6q8qTNQ8",
      "include_colab_link": true
    },
    "kernelspec": {
      "name": "python3",
      "display_name": "Python 3"
    },
    "language_info": {
      "name": "python"
    }
  },
  "cells": [
    {
      "cell_type": "markdown",
      "metadata": {
        "id": "view-in-github",
        "colab_type": "text"
      },
      "source": [
        "<a href=\"https://colab.research.google.com/github/shrikant78/DSSummit/blob/master/WordleAssist.ipynb\" target=\"_parent\"><img src=\"https://colab.research.google.com/assets/colab-badge.svg\" alt=\"Open In Colab\"/></a>"
      ]
    },
    {
      "cell_type": "code",
      "execution_count": 3,
      "metadata": {
        "colab": {
          "base_uri": "https://localhost:8080/"
        },
        "id": "bp7_Ht9O181b",
        "outputId": "690984e6-66ce-45e9-b514-926ce5573256"
      },
      "outputs": [
        {
          "output_type": "stream",
          "name": "stdout",
          "text": [
            "[nltk_data] Downloading package words to /root/nltk_data...\n",
            "[nltk_data]   Unzipping corpora/words.zip.\n"
          ]
        },
        {
          "output_type": "execute_result",
          "data": {
            "text/plain": [
              "True"
            ]
          },
          "metadata": {},
          "execution_count": 3
        }
      ],
      "source": [
        "import nltk\n",
        "nltk.download('words')"
      ]
    },
    {
      "cell_type": "code",
      "source": [
        ""
      ],
      "metadata": {
        "id": "uqHk9Fgo2sE7"
      },
      "execution_count": null,
      "outputs": []
    },
    {
      "cell_type": "code",
      "source": [
        "\"fine\" in words.words()"
      ],
      "metadata": {
        "colab": {
          "base_uri": "https://localhost:8080/"
        },
        "id": "D70tDxyi2I6j",
        "outputId": "f12b93ac-cb9e-494f-b205-d4a993c201ce"
      },
      "execution_count": 4,
      "outputs": [
        {
          "output_type": "execute_result",
          "data": {
            "text/plain": [
              "True"
            ]
          },
          "metadata": {},
          "execution_count": 4
        }
      ]
    },
    {
      "cell_type": "code",
      "source": [
        "import numpy\n",
        "import random\n",
        "#create a array of 5 words\n",
        "five_word_array = [random.randrange(0,10000),random.randrange(0,10000), random.randrange(0,10000),random.randrange(0,10000),random.randrange(0,10000),random.randrange(0,10000) ]\n",
        "print(five_word_array)\n",
        "i=0\n",
        "for i in five_word_array:\n",
        "  print (words.words()[i]) \n",
        "#words.words()[10]"
      ],
      "metadata": {
        "colab": {
          "base_uri": "https://localhost:8080/"
        },
        "id": "Edp-W3_K2uj6",
        "outputId": "ff86c03e-449d-48b7-dbbc-5d92108b5339"
      },
      "execution_count": 15,
      "outputs": [
        {
          "output_type": "stream",
          "name": "stdout",
          "text": [
            "[4962, 1021, 6472, 4968, 3187, 7501]\n",
            "aldose\n",
            "accountant\n",
            "amboceptor\n",
            "Alea\n",
            "aerobiotic\n",
            "anachronism\n"
          ]
        }
      ]
    },
    {
      "cell_type": "code",
      "source": [
        ""
      ],
      "metadata": {
        "id": "QFwHN2uK2hor"
      },
      "execution_count": null,
      "outputs": []
    }
  ]
}